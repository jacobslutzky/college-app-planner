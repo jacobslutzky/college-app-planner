{
 "cells": [
  {
   "cell_type": "markdown",
   "id": "abe5ea38",
   "metadata": {},
   "source": [
    "This is the Kmeans clustering part of our model"
   ]
  },
  {
   "cell_type": "code",
   "execution_count": 101,
   "id": "c12f31e3",
   "metadata": {},
   "outputs": [],
   "source": [
    "import pandas as pd\n",
    "import numpy as np\n",
    "from sklearn.cluster import KMeans\n",
    "from sklearn.neighbors import KNeighborsClassifier\n",
    "import matplotlib.pyplot as plt"
   ]
  },
  {
   "cell_type": "code",
   "execution_count": 123,
   "id": "b47f87c0",
   "metadata": {
    "scrolled": true
   },
   "outputs": [
    {
     "name": "stderr",
     "output_type": "stream",
     "text": [
      "/opt/anaconda3/lib/python3.8/site-packages/IPython/core/interactiveshell.py:3165: DtypeWarning: Columns (9,1537,1540,1542,1606,1608,1614,1615,1619,1620,1621,1622,1623,1624,1625,1626,1627,1628,1629,1703,1704,1725,1726,1727,1728,1729,1743,1815,1816,1817,1818,1823,1824,1830,1831,1879,1880,1881,1882,1883,1884,1885,1886,1887,1888,1889,1890,1891,1892,1893,1894,1895,1896,1897,1898,1909,1910,1911,1912,1913,1957,1958,1959,1960,1961,1962,1963,1964,1965,1966,1967,1968,1969,1970,1971,1972,1973,1974,1975,1976,1983,1984,2376,2377,2403,2404,2495,2496,2497,2498,2499,2500,2501,2502,2503,2504,2505,2506,2507,2508,2509,2510,2511,2512,2513,2514,2515,2516,2517,2518,2519,2520,2521,2522,2523,2524,2525,2526,2527,2528,2529,2530,2958) have mixed types.Specify dtype option on import or set low_memory=False.\n",
      "  has_raised = await self.run_ast_nodes(code_ast.body, cell_name,\n"
     ]
    }
   ],
   "source": [
    "## here is going to be the code for reading and getting the data that we want\n",
    "all_mostrecent = pd.read_csv(\"Most-Recent-Cohorts-Institution.csv\")\n",
    "filtered_mostrecent = all_mostrecent[[\"UNITID\", \"INSTNM\", \"CITY\",\"STABBR\",\"CONTROL\",\"ADM_RATE\", \"SATVRMID\",\"SATMTMID\",\"ACTCMMID\",\"ACTCM25\",\n",
    "        \"ACTCM75\", \"COSTT4_A\",\"UGDS\",\"C150_4\",\"RET_FT4\",\"MD_EARN_WNE_P6\",\n",
    "        \"MD_EARN_WNE_P10\", \"MD_EARN_WNE_MALE0_P6\",\"MD_EARN_WNE_MALE1_P6\",\"MD_EARN_WNE_MALE0_P10\",\"MD_EARN_WNE_MALE1_P10\"]]\n",
    "no_na_mostrecent = filtered_mostrecent.dropna(axis=0, inplace = False)\n",
    "## The following two are the good tables.\n",
    "numerical_mostrecent = no_na_mostrecent.select_dtypes(include=['number']).drop('UNITID', axis = 1)\n",
    "unitid_and_state = no_na_mostrecent[['UNITID', \"INSTNM\"]]\n"
   ]
  },
  {
   "cell_type": "code",
   "execution_count": 125,
   "id": "d9aa7f74",
   "metadata": {},
   "outputs": [],
   "source": [
    "## This is the cell where we normalize the numerical dataset\n",
    "min_value = 0\n",
    "max_value = 1\n",
    "normalized_df = (numerical_mostrecent - numerical_mostrecent.min()) / (numerical_mostrecent.max() - numerical_mostrecent.min()) * (max_value - min_value) + min_value\n",
    "normalized_df.reset_index(inplace=True)\n",
    "normalized_df = normalized_df.drop('index', axis = 1)\n",
    "unitid_and_state.reset_index(inplace=True)\n",
    "unitid_and_state = unitid_and_state.drop('index', axis = 1)\n",
    "##normalized df contains the data that we want"
   ]
  },
  {
   "cell_type": "code",
   "execution_count": 144,
   "id": "7b9a4645",
   "metadata": {},
   "outputs": [],
   "source": [
    "def euclidean_distance(row1, row2):\n",
    "    return np.linalg.norm(row1 - row2)"
   ]
  },
  {
   "cell_type": "code",
   "execution_count": 174,
   "id": "135f9021",
   "metadata": {},
   "outputs": [],
   "source": [
    "def closest_schools(unitid, number):\n",
    "    rownum = unitid_and_state['UNITID'].index[unitid_and_state['UNITID'] == unitid][0]\n",
    "    target_row = normalized_df.iloc[rownum]\n",
    "    \n",
    "    # Find the Euclidean distances\n",
    "    result = normalized_df.drop(rownum)\n",
    "    distances = [euclidean_distance(target_row, row) for _, row in result.iterrows()]\n",
    "\n",
    "    # Get the indices of the smallest 10 distances\n",
    "    min_distance_indices = np.argsort(distances)[:number]\n",
    "    min_distances = [distances[i] for i in min_distance_indices]\n",
    "\n",
    "    # Get the rows with the smallest 10 distances\n",
    "    rows_with_min_distances = result.iloc[min_distance_indices]\n",
    "\n",
    "    \n",
    "    print(\"Closest Schools\")\n",
    "    return unitid_and_state.iloc[min_distance_indices]\n",
    "    \n",
    "    "
   ]
  },
  {
   "cell_type": "code",
   "execution_count": 177,
   "id": "fb7d78c6",
   "metadata": {
    "scrolled": true
   },
   "outputs": [
    {
     "name": "stdout",
     "output_type": "stream",
     "text": [
      "Closest Schools\n"
     ]
    },
    {
     "data": {
      "text/html": [
       "<div>\n",
       "<style scoped>\n",
       "    .dataframe tbody tr th:only-of-type {\n",
       "        vertical-align: middle;\n",
       "    }\n",
       "\n",
       "    .dataframe tbody tr th {\n",
       "        vertical-align: top;\n",
       "    }\n",
       "\n",
       "    .dataframe thead th {\n",
       "        text-align: right;\n",
       "    }\n",
       "</style>\n",
       "<table border=\"1\" class=\"dataframe\">\n",
       "  <thead>\n",
       "    <tr style=\"text-align: right;\">\n",
       "      <th></th>\n",
       "      <th>UNITID</th>\n",
       "      <th>INSTNM</th>\n",
       "    </tr>\n",
       "  </thead>\n",
       "  <tbody>\n",
       "    <tr>\n",
       "      <th>442</th>\n",
       "      <td>186380</td>\n",
       "      <td>Rutgers University-New Brunswick</td>\n",
       "    </tr>\n",
       "    <tr>\n",
       "      <th>365</th>\n",
       "      <td>174066</td>\n",
       "      <td>University of Minnesota-Twin Cities</td>\n",
       "    </tr>\n",
       "    <tr>\n",
       "      <th>321</th>\n",
       "      <td>166629</td>\n",
       "      <td>University of Massachusetts-Amherst</td>\n",
       "    </tr>\n",
       "    <tr>\n",
       "      <th>861</th>\n",
       "      <td>240444</td>\n",
       "      <td>University of Wisconsin-Madison</td>\n",
       "    </tr>\n",
       "    <tr>\n",
       "      <th>214</th>\n",
       "      <td>151351</td>\n",
       "      <td>Indiana University-Bloomington</td>\n",
       "    </tr>\n",
       "    <tr>\n",
       "      <th>815</th>\n",
       "      <td>233921</td>\n",
       "      <td>Virginia Polytechnic Institute and State Unive...</td>\n",
       "    </tr>\n",
       "    <tr>\n",
       "      <th>63</th>\n",
       "      <td>126614</td>\n",
       "      <td>University of Colorado Boulder</td>\n",
       "    </tr>\n",
       "    <tr>\n",
       "      <th>586</th>\n",
       "      <td>204796</td>\n",
       "      <td>Ohio State University-Main Campus</td>\n",
       "    </tr>\n",
       "    <tr>\n",
       "      <th>542</th>\n",
       "      <td>199193</td>\n",
       "      <td>North Carolina State University at Raleigh</td>\n",
       "    </tr>\n",
       "    <tr>\n",
       "      <th>775</th>\n",
       "      <td>228723</td>\n",
       "      <td>Texas A &amp; M University-College Station</td>\n",
       "    </tr>\n",
       "  </tbody>\n",
       "</table>\n",
       "</div>"
      ],
      "text/plain": [
       "     UNITID                                             INSTNM\n",
       "442  186380                   Rutgers University-New Brunswick\n",
       "365  174066                University of Minnesota-Twin Cities\n",
       "321  166629                University of Massachusetts-Amherst\n",
       "861  240444                    University of Wisconsin-Madison\n",
       "214  151351                     Indiana University-Bloomington\n",
       "815  233921  Virginia Polytechnic Institute and State Unive...\n",
       "63   126614                     University of Colorado Boulder\n",
       "586  204796                  Ohio State University-Main Campus\n",
       "542  199193         North Carolina State University at Raleigh\n",
       "775  228723             Texas A & M University-College Station"
      ]
     },
     "execution_count": 177,
     "metadata": {},
     "output_type": "execute_result"
    }
   ],
   "source": [
    "closest_schools(243780, 10)"
   ]
  },
  {
   "cell_type": "code",
   "execution_count": null,
   "id": "5860766e",
   "metadata": {},
   "outputs": [],
   "source": []
  }
 ],
 "metadata": {
  "kernelspec": {
   "display_name": "Python 3",
   "language": "python",
   "name": "python3"
  },
  "language_info": {
   "codemirror_mode": {
    "name": "ipython",
    "version": 3
   },
   "file_extension": ".py",
   "mimetype": "text/x-python",
   "name": "python",
   "nbconvert_exporter": "python",
   "pygments_lexer": "ipython3",
   "version": "3.8.8"
  }
 },
 "nbformat": 4,
 "nbformat_minor": 5
}

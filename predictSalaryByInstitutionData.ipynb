{
 "cells": [
  {
   "cell_type": "code",
   "execution_count": 24,
   "id": "23fe09d6",
   "metadata": {},
   "outputs": [
    {
     "name": "stderr",
     "output_type": "stream",
     "text": [
      "/var/folders/0f/xj4_s2v50wl3l0xkj1lyyzrc0000gn/T/ipykernel_8218/2205893885.py:3: DtypeWarning: Columns (1537,1540,1542,1575,1589,1606,1610,1614,1615,1729,1909,1910,1911,1912,1913) have mixed types. Specify dtype option on import or set low_memory=False.\n",
      "  df1 = pd.read_csv(\"MERGED2014_15_PP.csv\")\n",
      "/var/folders/0f/xj4_s2v50wl3l0xkj1lyyzrc0000gn/T/ipykernel_8218/2205893885.py:4: DtypeWarning: Columns (1537,1540,1542,1561,1589,1590,1591,1601,1602,1606,1614,1615,1729,1909,1910,1911,1912,1913) have mixed types. Specify dtype option on import or set low_memory=False.\n",
      "  df2 = pd.read_csv(\"MERGED2015_16_PP.csv\")\n",
      "/var/folders/0f/xj4_s2v50wl3l0xkj1lyyzrc0000gn/T/ipykernel_8218/2205893885.py:5: DtypeWarning: Columns (1729,1909,1910,1911,1912,1913) have mixed types. Specify dtype option on import or set low_memory=False.\n",
      "  df3 = pd.read_csv(\"MERGED2016_17_PP.csv\")\n",
      "/var/folders/0f/xj4_s2v50wl3l0xkj1lyyzrc0000gn/T/ipykernel_8218/2205893885.py:6: DtypeWarning: Columns (1729,1909,1910,1911,1912,1913) have mixed types. Specify dtype option on import or set low_memory=False.\n",
      "  df4 = pd.read_csv(\"MERGED2017_18_PP.csv\")\n",
      "/var/folders/0f/xj4_s2v50wl3l0xkj1lyyzrc0000gn/T/ipykernel_8218/2205893885.py:7: DtypeWarning: Columns (1729,1909,1910,1911,1912,1913,2376,2377,2958) have mixed types. Specify dtype option on import or set low_memory=False.\n",
      "  df5 = pd.read_csv(\"MERGED2018_19_PP.csv\")\n",
      "/var/folders/0f/xj4_s2v50wl3l0xkj1lyyzrc0000gn/T/ipykernel_8218/2205893885.py:8: DtypeWarning: Columns (1503,1517,1729,1909,1910,1911,1912,1913,2376,2377,2958) have mixed types. Specify dtype option on import or set low_memory=False.\n",
      "  df6 = pd.read_csv(\"MERGED2019_20_PP.csv\")\n",
      "/var/folders/0f/xj4_s2v50wl3l0xkj1lyyzrc0000gn/T/ipykernel_8218/2205893885.py:9: DtypeWarning: Columns (1729,1908,1909,1910,1911,1912,1913,1991,1992,1993,1994,1995,1996,1997,1998,1999,2000,2001,2002,2003,2004,2005,2006,2007,2008,2009,2010,2011,2012,2013,2014,2015,2016,2017,2018,2019,2020,2021,2022,2023,2024,2025,2026,2027,2028,2029,2030,2031,2032,2033,2034,2035,2036,2037,2038,2039,2040,2044,2045,2046,2047,2048,2049,2050,2051,2052,2053,2054,2055,2056,2057,2058,2059,2060,2061,2062,2063,2064,2065,2066,2067,2068,2069,2070,2071,2092,2093,2094,2095,2096,2097,2098,2099,2100,2101,2102,2103,2104,2105,2106,2107,2108,2109,2110,2111,2112,2113,2114,2115,2116,2117,2118,2119,2120,2121,2122,2123,2124,2125,2126,2127,2128,2129,2130,2131,2148,2149,2150,2151,2152,2153,2154,2155,2156,2157,2158,2159,2376,2377) have mixed types. Specify dtype option on import or set low_memory=False.\n",
      "  df7 = pd.read_csv(\"MERGED2020_21_PP.csv\")\n",
      "/var/folders/0f/xj4_s2v50wl3l0xkj1lyyzrc0000gn/T/ipykernel_8218/2205893885.py:10: DtypeWarning: Columns (9,1725,1726,1727,1728,1729,1743,1815,1816,1817,1818,1823,1824,1830,1831,1879,1880,1881,1882,1883,1884,1885,1886,1887,1888,1889,1890,1891,1892,1893,1894,1895,1896,1897,1898,1909,1910,1911,1912,1913,1957,1958,1959,1960,1961,1962,1963,1964,1965,1966,1967,1968,1969,1970,1971,1972,1973,1974,1975,1976,1983,1984,2403,2404,2495,2496,2497,2498,2499,2500,2501,2502,2503,2504,2505,2506,2507,2508,2509,2510,2511,2512,2513,2514,2515,2516,2517,2518,2519,2520,2521,2522,2523,2524,2525,2526,2527,2528,2529,2530) have mixed types. Specify dtype option on import or set low_memory=False.\n",
      "  df8 = pd.read_csv(\"MERGED2021_22_PP.csv\")\n"
     ]
    }
   ],
   "source": [
    "import pandas as pd\n",
    "\n",
    "df1 = pd.read_csv(\"MERGED2014_15_PP.csv\")\n",
    "df2 = pd.read_csv(\"MERGED2015_16_PP.csv\")\n",
    "df3 = pd.read_csv(\"MERGED2016_17_PP.csv\")\n",
    "df4 = pd.read_csv(\"MERGED2017_18_PP.csv\")\n",
    "df5 = pd.read_csv(\"MERGED2018_19_PP.csv\")\n",
    "df6 = pd.read_csv(\"MERGED2019_20_PP.csv\")\n",
    "df7 = pd.read_csv(\"MERGED2020_21_PP.csv\")\n",
    "df8 = pd.read_csv(\"MERGED2021_22_PP.csv\")\n",
    "\n",
    "df1[\"YEAR\"] = 2014\n",
    "df2[\"YEAR\"] = 2015\n",
    "df3[\"YEAR\"] = 2016\n",
    "df4[\"YEAR\"] = 2017\n",
    "df5[\"YEAR\"] = 2018\n",
    "df6[\"YEAR\"] = 2019\n",
    "df7[\"YEAR\"] = 2020\n",
    "df8[\"YEAR\"] = 2021\n",
    "\n",
    "df = pd.concat([df1, df2, df3, df4, df5, df6, df7, df8])\n",
    "df = df[[\"YEAR\",\"CONTROL\",\"ADM_RATE\", \"SATVRMID\",\"SATMTMID\",\"ACTMTMID\",\n",
    "         \"ACTCMMID\",\"ACTCM25\", \"ACTCM75\", \"COSTT4_A\", \"UGDS\", \"UGDS_MEN\", \"UGDS_WOMEN\", \n",
    "         \"UGDS_WHITE\", \"UGDS_BLACK\", \"UGDS_HISP\", \"C150_4\", \"MD_EARN_WNE_P6\", \n",
    "         \"MD_EARN_WNE_P10\",\"FTFTPCTFLOAN\", \"FTFTPCTPELL\", \"DEBT_MDN\", \n",
    "         \"CDR3\", \"TUITIONFEE_IN\", \"TUITIONFEE_OUT\"]]\n",
    "\n",
    "\n",
    "# df.sort_values(by=['INSTNM',\"YEAR\"], ascending=True)\n",
    "\n",
    "#df.to_csv(\"ALL_INSTITUTION_DATA.csv\")\n"
   ]
  },
  {
   "cell_type": "code",
   "execution_count": 25,
   "id": "c8fb0672",
   "metadata": {},
   "outputs": [],
   "source": [
    "from sklearn.model_selection import train_test_split\n",
    "from sklearn.ensemble import RandomForestRegressor\n",
    "from sklearn.metrics import mean_squared_error\n",
    "from sklearn.impute import SimpleImputer  # Use imputer for handling missing values\n",
    "from sklearn.linear_model import LinearRegression\n"
   ]
  },
  {
   "cell_type": "code",
   "execution_count": 26,
   "id": "2cd2be76",
   "metadata": {},
   "outputs": [
    {
     "name": "stdout",
     "output_type": "stream",
     "text": [
      "(56507, 25)\n",
      "YEAR               56507\n",
      "CONTROL            56507\n",
      "ADM_RATE           16396\n",
      "SATVRMID            9415\n",
      "SATMTMID            9440\n",
      "ACTMTMID            8994\n",
      "ACTCMMID            9727\n",
      "ACTCM25             9727\n",
      "ACTCM75             9727\n",
      "COSTT4_A           28620\n",
      "UGDS               50364\n",
      "UGDS_MEN           50360\n",
      "UGDS_WOMEN         50360\n",
      "UGDS_WHITE         50360\n",
      "UGDS_BLACK         50360\n",
      "UGDS_HISP          50360\n",
      "C150_4             18900\n",
      "MD_EARN_WNE_P6     18425\n",
      "MD_EARN_WNE_P10    17671\n",
      "FTFTPCTFLOAN       47880\n",
      "FTFTPCTPELL        47880\n",
      "DEBT_MDN           49271\n",
      "CDR3               49299\n",
      "TUITIONFEE_IN      32163\n",
      "TUITIONFEE_OUT     30794\n",
      "dtype: int64\n",
      "YEAR               56507\n",
      "CONTROL            56507\n",
      "ADM_RATE           16396\n",
      "SATVRMID            9415\n",
      "SATMTMID            9440\n",
      "ACTMTMID            8994\n",
      "ACTCMMID            9727\n",
      "ACTCM25             9727\n",
      "ACTCM75             9727\n",
      "COSTT4_A           28620\n",
      "UGDS               50364\n",
      "UGDS_MEN           50360\n",
      "UGDS_WOMEN         50360\n",
      "UGDS_WHITE         50360\n",
      "UGDS_BLACK         50360\n",
      "UGDS_HISP          50360\n",
      "C150_4             18900\n",
      "MD_EARN_WNE_P6     17792\n",
      "MD_EARN_WNE_P10    16795\n",
      "FTFTPCTFLOAN       47880\n",
      "FTFTPCTPELL        47880\n",
      "DEBT_MDN           42462\n",
      "CDR3               49299\n",
      "TUITIONFEE_IN      32163\n",
      "TUITIONFEE_OUT     30794\n",
      "dtype: int64\n",
      "(3130, 25)\n"
     ]
    }
   ],
   "source": [
    "# contains_test_scores = df[~df['SATVRMID'].isna() & ~df['SATMTMID'].isna() & ~df['ACTCMMID'].isna() & ~df['ACTCM25'].isna() & ~df['ACTCM75'].isna()]\n",
    "# print(contains_test_scores.shape)\n",
    "import numpy as np\n",
    "print(df.shape)\n",
    "print(df.notnull().sum())\n",
    "all_num = df.apply(pd.to_numeric, errors='coerce')\n",
    "print(all_num.notnull().sum())\n",
    "all_num = all_num.dropna(axis=0)\n",
    "print(all_num.shape)\n",
    "df = all_num\n"
   ]
  },
  {
   "cell_type": "code",
   "execution_count": 27,
   "id": "ae849b30",
   "metadata": {},
   "outputs": [
    {
     "name": "stdout",
     "output_type": "stream",
     "text": [
      "MD_EARN_WNE_P6     1.000000\n",
      "MD_EARN_WNE_P10    0.949927\n",
      "SATMTMID           0.703094\n",
      "SATVRMID           0.643366\n",
      "ACTMTMID           0.642988\n",
      "ACTCM25            0.628706\n",
      "C150_4             0.628454\n",
      "ACTCMMID           0.620372\n",
      "ACTCM75            0.592390\n",
      "TUITIONFEE_OUT     0.584670\n",
      "COSTT4_A           0.476142\n",
      "TUITIONFEE_IN      0.434557\n",
      "YEAR               0.348361\n",
      "DEBT_MDN           0.284437\n",
      "UGDS               0.168182\n",
      "UGDS_MEN           0.166944\n",
      "UGDS_HISP          0.134822\n",
      "CONTROL            0.074843\n",
      "UGDS_WHITE        -0.018400\n",
      "UGDS_WOMEN        -0.166944\n",
      "ADM_RATE          -0.283311\n",
      "UGDS_BLACK        -0.327805\n",
      "FTFTPCTFLOAN      -0.389093\n",
      "FTFTPCTPELL       -0.538767\n",
      "CDR3              -0.565632\n",
      "Name: MD_EARN_WNE_P6, dtype: float64\n"
     ]
    }
   ],
   "source": [
    "correlation_matrix = df.corr()\n",
    "\n",
    "# Correlation with the target variable\n",
    "correlation_with_earnings = correlation_matrix['MD_EARN_WNE_P6'].sort_values(ascending=False)\n",
    "print(correlation_with_earnings)"
   ]
  },
  {
   "cell_type": "code",
   "execution_count": 28,
   "id": "4c50ef0a",
   "metadata": {},
   "outputs": [],
   "source": [
    "X=df.drop([\"MD_EARN_WNE_P6\",\"MD_EARN_WNE_P10\"],axis=1)\n",
    "six_year_earnings = df[\"MD_EARN_WNE_P6\"]\n",
    "ten_year_earnings = df[\"MD_EARN_WNE_P10\"]\n"
   ]
  },
  {
   "cell_type": "code",
   "execution_count": 29,
   "id": "9158308b",
   "metadata": {},
   "outputs": [],
   "source": [
    "X_train, X_test, y_train, y_test = train_test_split(X, six_year_earnings, test_size=0.2, random_state=42)\n",
    "# imputer = SimpleImputer(strategy='mean')\n",
    "# X_train = imputer.fit_transform(X_train)\n",
    "# X_test = imputer.transform(X_test)\n"
   ]
  },
  {
   "cell_type": "code",
   "execution_count": 30,
   "id": "1c0ac3a4",
   "metadata": {},
   "outputs": [
    {
     "data": {
      "text/html": [
       "<style>#sk-container-id-3 {color: black;}#sk-container-id-3 pre{padding: 0;}#sk-container-id-3 div.sk-toggleable {background-color: white;}#sk-container-id-3 label.sk-toggleable__label {cursor: pointer;display: block;width: 100%;margin-bottom: 0;padding: 0.3em;box-sizing: border-box;text-align: center;}#sk-container-id-3 label.sk-toggleable__label-arrow:before {content: \"▸\";float: left;margin-right: 0.25em;color: #696969;}#sk-container-id-3 label.sk-toggleable__label-arrow:hover:before {color: black;}#sk-container-id-3 div.sk-estimator:hover label.sk-toggleable__label-arrow:before {color: black;}#sk-container-id-3 div.sk-toggleable__content {max-height: 0;max-width: 0;overflow: hidden;text-align: left;background-color: #f0f8ff;}#sk-container-id-3 div.sk-toggleable__content pre {margin: 0.2em;color: black;border-radius: 0.25em;background-color: #f0f8ff;}#sk-container-id-3 input.sk-toggleable__control:checked~div.sk-toggleable__content {max-height: 200px;max-width: 100%;overflow: auto;}#sk-container-id-3 input.sk-toggleable__control:checked~label.sk-toggleable__label-arrow:before {content: \"▾\";}#sk-container-id-3 div.sk-estimator input.sk-toggleable__control:checked~label.sk-toggleable__label {background-color: #d4ebff;}#sk-container-id-3 div.sk-label input.sk-toggleable__control:checked~label.sk-toggleable__label {background-color: #d4ebff;}#sk-container-id-3 input.sk-hidden--visually {border: 0;clip: rect(1px 1px 1px 1px);clip: rect(1px, 1px, 1px, 1px);height: 1px;margin: -1px;overflow: hidden;padding: 0;position: absolute;width: 1px;}#sk-container-id-3 div.sk-estimator {font-family: monospace;background-color: #f0f8ff;border: 1px dotted black;border-radius: 0.25em;box-sizing: border-box;margin-bottom: 0.5em;}#sk-container-id-3 div.sk-estimator:hover {background-color: #d4ebff;}#sk-container-id-3 div.sk-parallel-item::after {content: \"\";width: 100%;border-bottom: 1px solid gray;flex-grow: 1;}#sk-container-id-3 div.sk-label:hover label.sk-toggleable__label {background-color: #d4ebff;}#sk-container-id-3 div.sk-serial::before {content: \"\";position: absolute;border-left: 1px solid gray;box-sizing: border-box;top: 0;bottom: 0;left: 50%;z-index: 0;}#sk-container-id-3 div.sk-serial {display: flex;flex-direction: column;align-items: center;background-color: white;padding-right: 0.2em;padding-left: 0.2em;position: relative;}#sk-container-id-3 div.sk-item {position: relative;z-index: 1;}#sk-container-id-3 div.sk-parallel {display: flex;align-items: stretch;justify-content: center;background-color: white;position: relative;}#sk-container-id-3 div.sk-item::before, #sk-container-id-3 div.sk-parallel-item::before {content: \"\";position: absolute;border-left: 1px solid gray;box-sizing: border-box;top: 0;bottom: 0;left: 50%;z-index: -1;}#sk-container-id-3 div.sk-parallel-item {display: flex;flex-direction: column;z-index: 1;position: relative;background-color: white;}#sk-container-id-3 div.sk-parallel-item:first-child::after {align-self: flex-end;width: 50%;}#sk-container-id-3 div.sk-parallel-item:last-child::after {align-self: flex-start;width: 50%;}#sk-container-id-3 div.sk-parallel-item:only-child::after {width: 0;}#sk-container-id-3 div.sk-dashed-wrapped {border: 1px dashed gray;margin: 0 0.4em 0.5em 0.4em;box-sizing: border-box;padding-bottom: 0.4em;background-color: white;}#sk-container-id-3 div.sk-label label {font-family: monospace;font-weight: bold;display: inline-block;line-height: 1.2em;}#sk-container-id-3 div.sk-label-container {text-align: center;}#sk-container-id-3 div.sk-container {/* jupyter's `normalize.less` sets `[hidden] { display: none; }` but bootstrap.min.css set `[hidden] { display: none !important; }` so we also need the `!important` here to be able to override the default hidden behavior on the sphinx rendered scikit-learn.org. See: https://github.com/scikit-learn/scikit-learn/issues/21755 */display: inline-block !important;position: relative;}#sk-container-id-3 div.sk-text-repr-fallback {display: none;}</style><div id=\"sk-container-id-3\" class=\"sk-top-container\"><div class=\"sk-text-repr-fallback\"><pre>LinearRegression()</pre><b>In a Jupyter environment, please rerun this cell to show the HTML representation or trust the notebook. <br />On GitHub, the HTML representation is unable to render, please try loading this page with nbviewer.org.</b></div><div class=\"sk-container\" hidden><div class=\"sk-item\"><div class=\"sk-estimator sk-toggleable\"><input class=\"sk-toggleable__control sk-hidden--visually\" id=\"sk-estimator-id-3\" type=\"checkbox\" checked><label for=\"sk-estimator-id-3\" class=\"sk-toggleable__label sk-toggleable__label-arrow\">LinearRegression</label><div class=\"sk-toggleable__content\"><pre>LinearRegression()</pre></div></div></div></div></div>"
      ],
      "text/plain": [
       "LinearRegression()"
      ]
     },
     "execution_count": 30,
     "metadata": {},
     "output_type": "execute_result"
    }
   ],
   "source": [
    "rf_model = RandomForestRegressor(n_estimators=100, random_state=41)\n",
    "\n",
    "rf_model.fit(X_train, y_train)\n",
    "\n",
    "\n",
    "lr_model = LinearRegression()\n",
    "lr_model.fit(X_train, y_train)"
   ]
  },
  {
   "cell_type": "code",
   "execution_count": 31,
   "id": "7996dc2a",
   "metadata": {},
   "outputs": [],
   "source": [
    "y_pred_rf = rf_model.predict(X_test)\n",
    "y_pred_lr = lr_model.predict(X_test)"
   ]
  },
  {
   "cell_type": "code",
   "execution_count": 32,
   "id": "1453caf3",
   "metadata": {},
   "outputs": [
    {
     "name": "stdout",
     "output_type": "stream",
     "text": [
      "32129089.85201486\n",
      "43680217.00175574\n"
     ]
    }
   ],
   "source": [
    "mse_rf = mean_squared_error(y_test, y_pred_rf)\n",
    "mse_lr = mean_squared_error(y_test, y_pred_lr)\n",
    "\n",
    "print(mse_rf)\n",
    "print(mse_lr)"
   ]
  },
  {
   "cell_type": "code",
   "execution_count": 33,
   "id": "060c23e2",
   "metadata": {},
   "outputs": [
    {
     "name": "stdout",
     "output_type": "stream",
     "text": [
      "Feature Importances:\n",
      "YEAR: 0.07861921669451143\n",
      "CONTROL: 0.0024399027736009393\n",
      "ADM_RATE: 0.014892804586098894\n",
      "SATVRMID: 0.00964290045431137\n",
      "SATMTMID: 0.3316384678259119\n",
      "ACTMTMID: 0.0392548499945599\n",
      "ACTCMMID: 0.021476517874177287\n",
      "ACTCM25: 0.011818121446114075\n",
      "ACTCM75: 0.005903029452642832\n",
      "COSTT4_A: 0.017046156974107697\n",
      "UGDS: 0.050483375306946715\n",
      "UGDS_MEN: 0.024786836421524128\n",
      "UGDS_WOMEN: 0.02487990257695338\n",
      "UGDS_WHITE: 0.01762210699423758\n",
      "UGDS_BLACK: 0.011953594786951656\n",
      "UGDS_HISP: 0.023812759085941288\n",
      "C150_4: 0.07104526292281887\n",
      "FTFTPCTFLOAN: 0.022443832821536783\n",
      "FTFTPCTPELL: 0.018831227138744185\n",
      "DEBT_MDN: 0.026809495680800408\n",
      "CDR3: 0.1434533063288037\n",
      "TUITIONFEE_IN: 0.011082799669349754\n",
      "TUITIONFEE_OUT: 0.020063532189355224\n"
     ]
    }
   ],
   "source": [
    "feature_importances = rf_model.feature_importances_\n",
    "print(\"Feature Importances:\")\n",
    "for feature, importance in zip(X.columns, feature_importances):\n",
    "    print(f\"{feature}: {importance}\")"
   ]
  },
  {
   "cell_type": "code",
   "execution_count": null,
   "id": "636c24ea",
   "metadata": {},
   "outputs": [],
   "source": []
  },
  {
   "cell_type": "code",
   "execution_count": null,
   "id": "211ff9a6",
   "metadata": {},
   "outputs": [],
   "source": []
  }
 ],
 "metadata": {
  "kernelspec": {
   "display_name": "Python 3 (ipykernel)",
   "language": "python",
   "name": "python3"
  },
  "language_info": {
   "codemirror_mode": {
    "name": "ipython",
    "version": 3
   },
   "file_extension": ".py",
   "mimetype": "text/x-python",
   "name": "python",
   "nbconvert_exporter": "python",
   "pygments_lexer": "ipython3",
   "version": "3.11.5"
  }
 },
 "nbformat": 4,
 "nbformat_minor": 5
}
